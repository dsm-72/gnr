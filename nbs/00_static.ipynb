{
 "cells": [
  {
   "attachments": {},
   "cell_type": "markdown",
   "metadata": {},
   "source": [
    "# static\n",
    "\n",
    "> static variables."
   ]
  },
  {
   "cell_type": "code",
   "execution_count": null,
   "metadata": {},
   "outputs": [],
   "source": [
    "#| default_exp static"
   ]
  },
  {
   "cell_type": "code",
   "execution_count": null,
   "metadata": {},
   "outputs": [],
   "source": [
    "#| hide\n",
    "from nbdev.showdoc import *"
   ]
  },
  {
   "cell_type": "code",
   "execution_count": null,
   "metadata": {},
   "outputs": [],
   "source": [
    "#| export\n",
    "LOG_SAFETY = 1e-8\n",
    "\n",
    "SSR_CHI2TEST = 'ssr_chi2test'\n",
    "LAG_ORDER = 1\n",
    "\n",
    "DEFAULT_TEST = SSR_CHI2TEST\n",
    "\n",
    "DEFAULT_GRANGER_CAUSALITY_TESTS = dict(\n",
    "    test      =  DEFAULT_TEST,\n",
    "    lag_order =  LAG_ORDER,\n",
    "    max_lag   = (LAG_ORDER, ) \n",
    ")\n",
    "\n",
    "\n",
    "LOG2_FOLD = 'log2_fold'\n",
    "SIGNED_CORRELATION= 'signed_correlation'\n",
    "STANDARD_SCALER = 'standard_scaler'\n",
    "\n",
    "KNOWN_TRANSFORMS = [LOG2_FOLD, SIGNED_CORRELATION, STANDARD_SCALER]\n",
    "\n",
    "MOCK_GENES = 'wasf colq gpr1 chrm3 lmod2 tek kank3 oca2 taz map4k1'.split()"
   ]
  },
  {
   "cell_type": "code",
   "execution_count": null,
   "metadata": {},
   "outputs": [],
   "source": [
    "#| hide\n",
    "import nbdev; nbdev.nbdev_export()"
   ]
  }
 ],
 "metadata": {
  "kernelspec": {
   "display_name": "python3",
   "language": "python",
   "name": "python3"
  }
 },
 "nbformat": 4,
 "nbformat_minor": 2
}
