{
 "cells": [
  {
   "cell_type": "code",
   "execution_count": null,
   "metadata": {},
   "outputs": [],
   "source": [
    "#| hide\n",
    "from gnr.static import *\n",
    "from gnr.utils import *\n",
    "from gnr.fn import *\n",
    "from gnr.op import *\n",
    "from gnr.mock import *"
   ]
  },
  {
   "attachments": {},
   "cell_type": "markdown",
   "metadata": {},
   "source": [
    "# gnr\n",
    "\n",
    "> granger causality analysis"
   ]
  },
  {
   "attachments": {},
   "cell_type": "markdown",
   "metadata": {},
   "source": [
    "This file will become your README and also the index of your documentation."
   ]
  },
  {
   "attachments": {},
   "cell_type": "markdown",
   "metadata": {},
   "source": [
    "## Developer Guide"
   ]
  },
  {
   "attachments": {},
   "cell_type": "markdown",
   "metadata": {},
   "source": [
    "### Setup"
   ]
  },
  {
   "attachments": {},
   "cell_type": "markdown",
   "metadata": {},
   "source": [
    "```sh\n",
    "# create conda environment\n",
    "$ mamba env create -f env.yml\n",
    "\n",
    "# update conda environment\n",
    "$ mamba env update -n gnr --file env.yml\n",
    "# $ mamba env update -n gnr --file env.mac.yml\n",
    "```"
   ]
  },
  {
   "attachments": {},
   "cell_type": "markdown",
   "metadata": {},
   "source": [
    "### Install"
   ]
  },
  {
   "attachments": {},
   "cell_type": "markdown",
   "metadata": {},
   "source": [
    "```sh\n",
    "pip install -e .\n",
    "\n",
    "# install from pypi\n",
    "pip install gnr\n",
    "```"
   ]
  },
  {
   "attachments": {},
   "cell_type": "markdown",
   "metadata": {},
   "source": [
    "### nbdev"
   ]
  },
  {
   "attachments": {},
   "cell_type": "markdown",
   "metadata": {},
   "source": [
    "```sh\n",
    "# activate conda environment\n",
    "$ conda activate gnr\n",
    "\n",
    "# make sure the gnr package is installed in development mode\n",
    "$ pip install -e .\n",
    "\n",
    "# make changes under nbs/ directory\n",
    "# ...\n",
    "\n",
    "# compile to have changes apply to the gnr package\n",
    "$ nbdev_prepare\n",
    "```"
   ]
  },
  {
   "attachments": {},
   "cell_type": "markdown",
   "metadata": {},
   "source": [
    "Note: it might be useful to use the following snippet to enable hot reloading:\n",
    "\n",
    "```python\n",
    "%load_ext autoreload\n",
    "%autoreload 2\n",
    "```"
   ]
  },
  {
   "attachments": {},
   "cell_type": "markdown",
   "metadata": {},
   "source": [
    "### Publishing"
   ]
  },
  {
   "attachments": {},
   "cell_type": "markdown",
   "metadata": {},
   "source": [
    "```sh\n",
    "# publish to pypi\n",
    "$ nbdev_pypi\n",
    "\n",
    "# publish to conda\n",
    "$ nbdev_conda --build_args '-c conda-forge'\n",
    "```"
   ]
  },
  {
   "attachments": {},
   "cell_type": "markdown",
   "metadata": {},
   "source": [
    "# Usage"
   ]
  },
  {
   "attachments": {},
   "cell_type": "markdown",
   "metadata": {},
   "source": [
    "## Installation"
   ]
  },
  {
   "attachments": {},
   "cell_type": "markdown",
   "metadata": {},
   "source": [
    "Install latest from the GitHub [repository][repo]:\n",
    "\n",
    "```sh\n",
    "$ pip install git+https://github.com/dsm-72/gnr.git\n",
    "```\n",
    "\n",
    "or from [conda][conda]\n",
    "\n",
    "```sh\n",
    "$ conda install -c dsm-72 gnr\n",
    "```\n",
    "\n",
    "or from [pypi][pypi]\n",
    "\n",
    "\n",
    "```sh\n",
    "$ pip install gnr\n",
    "```\n",
    "\n",
    "\n",
    "[repo]: https://github.com/dsm-72/gnr\n",
    "[docs]: https://dsm-72.github.io/gnr/\n",
    "[pypi]: https://pypi.org/project/gnr/\n",
    "[conda]: https://anaconda.org/dsm-72/gnr"
   ]
  },
  {
   "cell_type": "code",
   "execution_count": null,
   "metadata": {},
   "outputs": [
    {
     "data": {
      "text/html": [
       "<div>\n",
       "<style scoped>\n",
       "    .dataframe tbody tr th:only-of-type {\n",
       "        vertical-align: middle;\n",
       "    }\n",
       "\n",
       "    .dataframe tbody tr th {\n",
       "        vertical-align: top;\n",
       "    }\n",
       "\n",
       "    .dataframe thead th {\n",
       "        text-align: right;\n",
       "    }\n",
       "</style>\n",
       "<table border=\"1\" class=\"dataframe\">\n",
       "  <thead>\n",
       "    <tr style=\"text-align: right;\">\n",
       "      <th></th>\n",
       "      <th>0</th>\n",
       "      <th>1</th>\n",
       "      <th>2</th>\n",
       "      <th>3</th>\n",
       "      <th>4</th>\n",
       "      <th>5</th>\n",
       "      <th>6</th>\n",
       "      <th>7</th>\n",
       "      <th>8</th>\n",
       "      <th>9</th>\n",
       "      <th>...</th>\n",
       "      <th>90</th>\n",
       "      <th>91</th>\n",
       "      <th>92</th>\n",
       "      <th>93</th>\n",
       "      <th>94</th>\n",
       "      <th>95</th>\n",
       "      <th>96</th>\n",
       "      <th>97</th>\n",
       "      <th>98</th>\n",
       "      <th>99</th>\n",
       "    </tr>\n",
       "  </thead>\n",
       "  <tbody>\n",
       "    <tr>\n",
       "      <th>wasf</th>\n",
       "      <td>0</td>\n",
       "      <td>0</td>\n",
       "      <td>0</td>\n",
       "      <td>0</td>\n",
       "      <td>0</td>\n",
       "      <td>0</td>\n",
       "      <td>0</td>\n",
       "      <td>0</td>\n",
       "      <td>0</td>\n",
       "      <td>0</td>\n",
       "      <td>...</td>\n",
       "      <td>9</td>\n",
       "      <td>9</td>\n",
       "      <td>9</td>\n",
       "      <td>9</td>\n",
       "      <td>9</td>\n",
       "      <td>9</td>\n",
       "      <td>9</td>\n",
       "      <td>9</td>\n",
       "      <td>9</td>\n",
       "      <td>9</td>\n",
       "    </tr>\n",
       "    <tr>\n",
       "      <th>colq</th>\n",
       "      <td>9</td>\n",
       "      <td>9</td>\n",
       "      <td>9</td>\n",
       "      <td>9</td>\n",
       "      <td>9</td>\n",
       "      <td>9</td>\n",
       "      <td>9</td>\n",
       "      <td>9</td>\n",
       "      <td>9</td>\n",
       "      <td>9</td>\n",
       "      <td>...</td>\n",
       "      <td>1</td>\n",
       "      <td>0</td>\n",
       "      <td>0</td>\n",
       "      <td>0</td>\n",
       "      <td>0</td>\n",
       "      <td>0</td>\n",
       "      <td>0</td>\n",
       "      <td>0</td>\n",
       "      <td>0</td>\n",
       "      <td>0</td>\n",
       "    </tr>\n",
       "    <tr>\n",
       "      <th>gpr1</th>\n",
       "      <td>0</td>\n",
       "      <td>0</td>\n",
       "      <td>0</td>\n",
       "      <td>0</td>\n",
       "      <td>0</td>\n",
       "      <td>0</td>\n",
       "      <td>0</td>\n",
       "      <td>0</td>\n",
       "      <td>0</td>\n",
       "      <td>0</td>\n",
       "      <td>...</td>\n",
       "      <td>9</td>\n",
       "      <td>9</td>\n",
       "      <td>9</td>\n",
       "      <td>9</td>\n",
       "      <td>9</td>\n",
       "      <td>9</td>\n",
       "      <td>9</td>\n",
       "      <td>9</td>\n",
       "      <td>9</td>\n",
       "      <td>9</td>\n",
       "    </tr>\n",
       "    <tr>\n",
       "      <th>chrm3</th>\n",
       "      <td>9</td>\n",
       "      <td>9</td>\n",
       "      <td>9</td>\n",
       "      <td>9</td>\n",
       "      <td>9</td>\n",
       "      <td>9</td>\n",
       "      <td>9</td>\n",
       "      <td>9</td>\n",
       "      <td>9</td>\n",
       "      <td>9</td>\n",
       "      <td>...</td>\n",
       "      <td>1</td>\n",
       "      <td>1</td>\n",
       "      <td>0</td>\n",
       "      <td>0</td>\n",
       "      <td>0</td>\n",
       "      <td>0</td>\n",
       "      <td>0</td>\n",
       "      <td>0</td>\n",
       "      <td>0</td>\n",
       "      <td>0</td>\n",
       "    </tr>\n",
       "    <tr>\n",
       "      <th>lmod2</th>\n",
       "      <td>0</td>\n",
       "      <td>0</td>\n",
       "      <td>0</td>\n",
       "      <td>0</td>\n",
       "      <td>0</td>\n",
       "      <td>0</td>\n",
       "      <td>0</td>\n",
       "      <td>1</td>\n",
       "      <td>1</td>\n",
       "      <td>1</td>\n",
       "      <td>...</td>\n",
       "      <td>8</td>\n",
       "      <td>8</td>\n",
       "      <td>8</td>\n",
       "      <td>9</td>\n",
       "      <td>9</td>\n",
       "      <td>9</td>\n",
       "      <td>9</td>\n",
       "      <td>9</td>\n",
       "      <td>9</td>\n",
       "      <td>9</td>\n",
       "    </tr>\n",
       "  </tbody>\n",
       "</table>\n",
       "<p>5 rows × 100 columns</p>\n",
       "</div>"
      ],
      "text/plain": [
       "       0   1   2   3   4   5   6   7   8   9   ...  90  91  92  93  94  95  \\\n",
       "wasf    0   0   0   0   0   0   0   0   0   0  ...   9   9   9   9   9   9   \n",
       "colq    9   9   9   9   9   9   9   9   9   9  ...   1   0   0   0   0   0   \n",
       "gpr1    0   0   0   0   0   0   0   0   0   0  ...   9   9   9   9   9   9   \n",
       "chrm3   9   9   9   9   9   9   9   9   9   9  ...   1   1   0   0   0   0   \n",
       "lmod2   0   0   0   0   0   0   0   1   1   1  ...   8   8   8   9   9   9   \n",
       "\n",
       "       96  97  98  99  \n",
       "wasf    9   9   9   9  \n",
       "colq    0   0   0   0  \n",
       "gpr1    9   9   9   9  \n",
       "chrm3   0   0   0   0  \n",
       "lmod2   9   9   9   9  \n",
       "\n",
       "[5 rows x 100 columns]"
      ]
     },
     "execution_count": null,
     "metadata": {},
     "output_type": "execute_result"
    }
   ],
   "source": [
    "#| eval: false\n",
    "df_trj = make_mock_genes_x_tbins()\n",
    "df_trj.head()"
   ]
  },
  {
   "cell_type": "code",
   "execution_count": null,
   "metadata": {},
   "outputs": [],
   "source": [
    "#| eval: false\n",
    "gc_op = GrangerCausality(n_jobs=2)"
   ]
  },
  {
   "cell_type": "code",
   "execution_count": null,
   "metadata": {},
   "outputs": [],
   "source": [
    "#| eval: false\n",
    "df_res = gc_op.fit_transform(df_trj, fit_params={'standard_scaler':True, 'signed_correlation': True})"
   ]
  },
  {
   "cell_type": "code",
   "execution_count": null,
   "metadata": {},
   "outputs": [
    {
     "data": {
      "text/html": [
       "<div>\n",
       "<style scoped>\n",
       "    .dataframe tbody tr th:only-of-type {\n",
       "        vertical-align: middle;\n",
       "    }\n",
       "\n",
       "    .dataframe tbody tr th {\n",
       "        vertical-align: top;\n",
       "    }\n",
       "\n",
       "    .dataframe thead th {\n",
       "        text-align: right;\n",
       "    }\n",
       "</style>\n",
       "<table border=\"1\" class=\"dataframe\">\n",
       "  <thead>\n",
       "    <tr style=\"text-align: right;\">\n",
       "      <th></th>\n",
       "      <th>wasf_y</th>\n",
       "      <th>colq_y</th>\n",
       "      <th>gpr1_y</th>\n",
       "      <th>chrm3_y</th>\n",
       "      <th>lmod2_y</th>\n",
       "      <th>tek_y</th>\n",
       "      <th>kank3_y</th>\n",
       "      <th>oca2_y</th>\n",
       "      <th>taz_y</th>\n",
       "      <th>map4k1_y</th>\n",
       "    </tr>\n",
       "  </thead>\n",
       "  <tbody>\n",
       "    <tr>\n",
       "      <th>wasf_x</th>\n",
       "      <td>1.000000</td>\n",
       "      <td>0.683091</td>\n",
       "      <td>0.314458</td>\n",
       "      <td>0.144127</td>\n",
       "      <td>0.000818</td>\n",
       "      <td>1.000000</td>\n",
       "      <td>1.000000</td>\n",
       "      <td>0.000066</td>\n",
       "      <td>0.102470</td>\n",
       "      <td>0.006449</td>\n",
       "    </tr>\n",
       "    <tr>\n",
       "      <th>colq_x</th>\n",
       "      <td>1.000000</td>\n",
       "      <td>1.000000</td>\n",
       "      <td>0.779284</td>\n",
       "      <td>1.000000</td>\n",
       "      <td>1.000000</td>\n",
       "      <td>0.001091</td>\n",
       "      <td>0.192685</td>\n",
       "      <td>0.675090</td>\n",
       "      <td>1.000000</td>\n",
       "      <td>0.806543</td>\n",
       "    </tr>\n",
       "    <tr>\n",
       "      <th>gpr1_x</th>\n",
       "      <td>0.805541</td>\n",
       "      <td>0.042286</td>\n",
       "      <td>1.000000</td>\n",
       "      <td>0.892251</td>\n",
       "      <td>0.795418</td>\n",
       "      <td>0.823063</td>\n",
       "      <td>1.000000</td>\n",
       "      <td>0.542452</td>\n",
       "      <td>0.001091</td>\n",
       "      <td>0.852052</td>\n",
       "    </tr>\n",
       "    <tr>\n",
       "      <th>chrm3_x</th>\n",
       "      <td>0.001091</td>\n",
       "      <td>0.073638</td>\n",
       "      <td>0.168425</td>\n",
       "      <td>1.000000</td>\n",
       "      <td>0.632585</td>\n",
       "      <td>1.000000</td>\n",
       "      <td>0.102470</td>\n",
       "      <td>0.542452</td>\n",
       "      <td>1.000000</td>\n",
       "      <td>0.367649</td>\n",
       "    </tr>\n",
       "    <tr>\n",
       "      <th>lmod2_x</th>\n",
       "      <td>0.683091</td>\n",
       "      <td>0.000104</td>\n",
       "      <td>0.031086</td>\n",
       "      <td>0.220671</td>\n",
       "      <td>1.000000</td>\n",
       "      <td>0.683091</td>\n",
       "      <td>0.000818</td>\n",
       "      <td>0.367649</td>\n",
       "      <td>1.000000</td>\n",
       "      <td>0.017608</td>\n",
       "    </tr>\n",
       "  </tbody>\n",
       "</table>\n",
       "</div>"
      ],
      "text/plain": [
       "           wasf_y    colq_y    gpr1_y   chrm3_y   lmod2_y     tek_y   kank3_y  \\\n",
       "wasf_x   1.000000  0.683091  0.314458  0.144127  0.000818  1.000000  1.000000   \n",
       "colq_x   1.000000  1.000000  0.779284  1.000000  1.000000  0.001091  0.192685   \n",
       "gpr1_x   0.805541  0.042286  1.000000  0.892251  0.795418  0.823063  1.000000   \n",
       "chrm3_x  0.001091  0.073638  0.168425  1.000000  0.632585  1.000000  0.102470   \n",
       "lmod2_x  0.683091  0.000104  0.031086  0.220671  1.000000  0.683091  0.000818   \n",
       "\n",
       "           oca2_y     taz_y  map4k1_y  \n",
       "wasf_x   0.000066  0.102470  0.006449  \n",
       "colq_x   0.675090  1.000000  0.806543  \n",
       "gpr1_x   0.542452  0.001091  0.852052  \n",
       "chrm3_x  0.542452  1.000000  0.367649  \n",
       "lmod2_x  0.367649  1.000000  0.017608  "
      ]
     },
     "execution_count": null,
     "metadata": {},
     "output_type": "execute_result"
    }
   ],
   "source": [
    "#| eval: false\n",
    "df_res.head()"
   ]
  },
  {
   "cell_type": "code",
   "execution_count": null,
   "metadata": {},
   "outputs": [
    {
     "data": {
      "text/plain": [
       "<seaborn.matrix.ClusterGrid>"
      ]
     },
     "execution_count": null,
     "metadata": {},
     "output_type": "execute_result"
    },
    {
     "data": {
      "image/png": "[encoded data removed]",
      "text/plain": [
       "<Figure size 400x400 with 4 Axes>"
      ]
     },
     "metadata": {},
     "output_type": "display_data"
    }
   ],
   "source": [
    "#| eval: false\n",
    "gc_op.plot_df_org(figsize=(4,4))"
   ]
  },
  {
   "cell_type": "code",
   "execution_count": null,
   "metadata": {},
   "outputs": [
    {
     "data": {
      "text/plain": [
       "<seaborn.matrix.ClusterGrid>"
      ]
     },
     "execution_count": null,
     "metadata": {},
     "output_type": "execute_result"
    },
    {
     "data": {
      "image/png": "[encoded data removed]",
      "text/plain": [
       "<Figure size 400x400 with 4 Axes>"
      ]
     },
     "metadata": {},
     "output_type": "display_data"
    }
   ],
   "source": [
    "#| eval: false\n",
    "gc_op.plot_df_res(figsize=(4,4))"
   ]
  },
  {
   "attachments": {},
   "cell_type": "markdown",
   "metadata": {},
   "source": [
    "## Documentation"
   ]
  },
  {
   "attachments": {},
   "cell_type": "markdown",
   "metadata": {},
   "source": [
    "Documentation can be found hosted on GitHub [repository][repo] [pages][docs]. Additionally you can find package manager specific guidelines on [conda][conda] and [pypi][pypi] respectively.\n",
    "\n",
    "[repo]: https://github.com/dsm-72/gnr\n",
    "[docs]: https://dsm-72.github.io/gnr/\n",
    "[pypi]: https://pypi.org/project/gnr/\n",
    "[conda]: https://anaconda.org/dsm-72/gnr"
   ]
  }
 ],
 "metadata": {
  "kernelspec": {
   "display_name": "python3",
   "language": "python",
   "name": "python3"
  }
 },
 "nbformat": 4,
 "nbformat_minor": 4
}
